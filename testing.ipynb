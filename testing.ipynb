{
 "cells": [
  {
   "cell_type": "markdown",
   "metadata": {},
   "source": [
    "## Creating the URL"
   ]
  },
  {
   "cell_type": "code",
   "execution_count": 1,
   "metadata": {},
   "outputs": [
    {
     "data": {
      "text/plain": [
       "'https://www.google.com/search?q=creatine+monohydrate&tbm=nws'"
      ]
     },
     "execution_count": 1,
     "metadata": {},
     "output_type": "execute_result"
    }
   ],
   "source": [
    "import urllib\n",
    "import selenium\n",
    "# Fucntion To Create the URL\n",
    "\n",
    "def build_url(search_item):\n",
    "    google_main_url = 'https://www.google.com/search?'\n",
    "    params = {'q':search_item,'tbm':'nws'}\n",
    "    return google_main_url+urllib.parse.urlencode(params)\n",
    "url = build_url('creatine monohydrate')\n",
    "url"
   ]
  },
  {
   "cell_type": "code",
   "execution_count": null,
   "metadata": {},
   "outputs": [],
   "source": []
  }
 ],
 "metadata": {
  "kernelspec": {
   "display_name": "Python 3.9.15 ('NewsFeeder')",
   "language": "python",
   "name": "python3"
  },
  "language_info": {
   "codemirror_mode": {
    "name": "ipython",
    "version": 3
   },
   "file_extension": ".py",
   "mimetype": "text/x-python",
   "name": "python",
   "nbconvert_exporter": "python",
   "pygments_lexer": "ipython3",
   "version": "3.9.15"
  },
  "orig_nbformat": 4,
  "vscode": {
   "interpreter": {
    "hash": "12a94f7f42f3f23b52861da658632f4486196a490e6ab8b8582bc58ab9190465"
   }
  }
 },
 "nbformat": 4,
 "nbformat_minor": 2
}

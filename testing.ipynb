{
 "cells": [
  {
   "cell_type": "markdown",
   "metadata": {},
   "source": [
    "## Creating the URL"
   ]
  },
  {
   "cell_type": "code",
   "execution_count": 69,
   "metadata": {},
   "outputs": [
    {
     "data": {
      "text/plain": [
       "'https://www.google.com/search?q=RSS&tbm=nws'"
      ]
     },
     "execution_count": 69,
     "metadata": {},
     "output_type": "execute_result"
    }
   ],
   "source": [
    "import urllib\n",
    "from selenium import webdriver\n",
    "import requests\n",
    "import time\n",
    "from bs4 import BeautifulSoup\n",
    "import re\n",
    "# Fucntion To Create the URL\n",
    "search_item = 'RSS'\n",
    "def build_url(search_item):\n",
    "    google_main_url = 'https://www.google.com/search?'\n",
    "    params = {'q':search_item,'tbm':'nws'}\n",
    "    return google_main_url+urllib.parse.urlencode(params)\n",
    "url = build_url(search_item)\n",
    "url"
   ]
  },
  {
   "cell_type": "markdown",
   "metadata": {},
   "source": [
    "## Getting html using the requestlib"
   ]
  },
  {
   "cell_type": "code",
   "execution_count": 70,
   "metadata": {},
   "outputs": [],
   "source": [
    "\n",
    "def get_html(url):\n",
    "    response = requests.get(url)\n",
    "    if response:\n",
    "        print(f'Successfully completed the Search for{search_item}')\n",
    "    else:\n",
    "        print('An error has occurred.')\n",
    "        return False\n",
    "\n",
    "    return response.content\n"
   ]
  },
  {
   "cell_type": "code",
   "execution_count": 77,
   "metadata": {},
   "outputs": [
    {
     "name": "stdout",
     "output_type": "stream",
     "text": [
      "Successfully completed the Search forRSS\n"
     ]
    }
   ],
   "source": [
    "# Function for getting the main Content\n",
    "html = get_html(url)\n",
    "def main_content(html):\n",
    "    soup  = BeautifulSoup(html,'html5lib')\n",
    "    divs = soup.findAll('div',attrs={'id':'main'})\n",
    "    div_element = divs[0].text\n",
    "    # Pattern for extracting ALL Headlines text\n",
    "    combined_headlines_pattern = re.compile('weight:bold}([A-Za-z].*[0-9]{1,2}\\s(?:hours|days|day|hour)s\\sago)')\n",
    "    combined_headlines = re.findall(combined_headlines_pattern,div_element)\n",
    "    # Pattern to extract individual Headlines\n",
    "    individual_headlines_pattern = re.compile('([\\w].*?\\.{0,3}[0-9]\\s(?:hours|days|day|hour)\\sago)')\n",
    "    individual_headlines = re.findall(individual_headlines_pattern,combined_headlines[0])\n",
    "    print(*individual_headlines,sep ='\\n')\n",
    "    return div_element\n"
   ]
  },
  {
   "cell_type": "code",
   "execution_count": 87,
   "metadata": {},
   "outputs": [
    {
     "name": "stdout",
     "output_type": "stream",
     "text": [
      "RSS-Linked Magazine 'Organiser' Accuses Amazon of 'Funding Christian Conversions'The WireNew Delhi: Rashtriya Swayamsevak Sangh's (RSS's) affiliate magazine The Organiser has accused the global e-commerce giant Amazon of funding...2 days agoHigh time RSS, BJP stopped interfering in Sikh affairs, SGPC tells ...The Indian ExpressApart from RSS and Centre, the SGPC and Shiromani Akali Dal had earlier accused the the Punjab and Haryana governments, and National Commission...1 day ago'New Deceit': Mayawati on BJP, RSS Outreach to Pasmanda MuslimsThe WireIn a tweet in Hindi, she said, “The concern of the BJP and RSS towards the Pasmanda Muslim community is new deceit. Their thinking, intention...1 day agoRSS chief Mohan Bhagwat says ‘Akhand Bharat’ spread from west Kabul to east Tibet and Sri LankaThe HinduRashtriya Swayamsevak Sangh (RSS) chief Mohan Bhagwat said the Supreme Court in one of its judgments has said “Hinduism is not a religion or...2 days agoCourt sentences 11 RSS workers to RI for life for Narayanan Nair’s murderThe HinduThe Additional Sessions Court, Neyyattinkara, sentenced 11 Rashtriya Swayamsevak Sangh (RSS) found guilty of the murder of a Municipal...3 days agoHow the Hindu nationalist RSS woos Indian-AmericansQuartzThe overseas presence of RSS (Rashtriya Swayamsevak Sangh)-inspired groups is, outside of neighbouring Nepal, strongest in three...51 months agoSudhakaran's 'pro-RSS' statements: IUML calms down after KPCC president admits mistake | Malappuram | OnmanoramaOnmanoramaSudhakaran waded into a controversy when he said on November 9 that the Congress workers had given protection to 'shakhas' of RSS which were...1 day agoRSS-backed Bharatiya Mazdoor Sangh asks Centre to rethink PSU privatisation decisionThe HinduThousands of workers affiliated to the RSS-backed trade union Bharatiya Mazdoor Sangh (BMS) on Thursday protested in New Delhi against the...9 hours agoBanking on Judeo, RSS attempts to pave way for BJP in ChhattisgarhThe HinduRashtriya Swayamsewak Sangh (RSS) chief Mohan Bhagwat on Monday unveiled the statue of former Union Minister Dilip Singh Judeo,...3 days agoEveryone Living In India Is 'Hindu', Says RSS Chief Mohan BhagwatNDTV.comRashtriya Swayamsevak Sangh (RSS) chief Mohan Bhagwat on Tuesday said every person living in the country is a 'Hindu' and the DNA of all...2 days ago\n",
      "[\"RSS-Linked Magazine 'Organiser' Accuses Amazon of 'Funding Christian Conversions'The WireNew Delhi: Rashtriya Swayamsevak Sangh's (RSS's) affiliate magazine The Organiser has accused the global e-commerce giant Amazon of funding...2 days ago\", 'High time RSS, BJP stopped interfering in Sikh affairs, SGPC tells ...The Indian ExpressApart from RSS and Centre, the SGPC and Shiromani Akali Dal had earlier accused the the Punjab and Haryana governments, and National Commission...1 day ago', \"New Deceit': Mayawati on BJP, RSS Outreach to Pasmanda MuslimsThe WireIn a tweet in Hindi, she said, “The concern of the BJP and RSS towards the Pasmanda Muslim community is new deceit. Their thinking, intention...1 day ago\", 'RSS chief Mohan Bhagwat says ‘Akhand Bharat’ spread from west Kabul to east Tibet and Sri LankaThe HinduRashtriya Swayamsevak Sangh (RSS) chief Mohan Bhagwat said the Supreme Court in one of its judgments has said “Hinduism is not a religion or...2 days ago', 'Court sentences 11 RSS workers to RI for life for Narayanan Nair’s murderThe HinduThe Additional Sessions Court, Neyyattinkara, sentenced 11 Rashtriya Swayamsevak Sangh (RSS) found guilty of the murder of a Municipal...3 days ago', \"How the Hindu nationalist RSS woos Indian-AmericansQuartzThe overseas presence of RSS (Rashtriya Swayamsevak Sangh)-inspired groups is, outside of neighbouring Nepal, strongest in three...51 months agoSudhakaran's 'pro-RSS' statements: IUML calms down after KPCC president admits mistake | Malappuram | OnmanoramaOnmanoramaSudhakaran waded into a controversy when he said on November 9 that the Congress workers had given protection to 'shakhas' of RSS which were...1 day ago\", 'RSS-backed Bharatiya Mazdoor Sangh asks Centre to rethink PSU privatisation decisionThe HinduThousands of workers affiliated to the RSS-backed trade union Bharatiya Mazdoor Sangh (BMS) on Thursday protested in New Delhi against the...9 hours ago', 'Banking on Judeo, RSS attempts to pave way for BJP in ChhattisgarhThe HinduRashtriya Swayamsewak Sangh (RSS) chief Mohan Bhagwat on Monday unveiled the statue of former Union Minister Dilip Singh Judeo,...3 days ago', \"Everyone Living In India Is 'Hindu', Says RSS Chief Mohan BhagwatNDTV.comRashtriya Swayamsevak Sangh (RSS) chief Mohan Bhagwat on Tuesday said every person living in the country is a 'Hindu' and the DNA of all...2 days ago\"]\n"
     ]
    }
   ],
   "source": [
    "soup  = BeautifulSoup(html,'html5lib')\n",
    "divs = soup.findAll('div',attrs={'id':'main'})\n",
    "div_element = divs[0].text\n",
    "combined_headlines_pattern = re.compile('weight:bold}([A-Za-z].*[0-9]{1,2}\\s(?:hours|days|day|hour)s\\sago)')\n",
    "combined_headlines = re.findall(combined_headlines_pattern,div_element)\n",
    "print(combined_headlines[0])\n",
    "individual_headlines_pattern = re.compile('([\\w].*?\\.{0,3}[0-9]\\s(?:hours|days|day|hour)\\sago)')\n",
    "individual_headlines = re.findall(individual_headlines_pattern,combined_headlines[0])\n",
    "print(individual_headlines)"
   ]
  },
  {
   "cell_type": "code",
   "execution_count": 78,
   "metadata": {},
   "outputs": [
    {
     "name": "stdout",
     "output_type": "stream",
     "text": [
      "\n",
      "    AllNewsImagesVideos  Maps  Shopping  Books  Search tools    .wEsjbd{background-color:#fff;height:44px;white-space:nowrap}.coPU8c{height:60px;overflow-scrolling:touch;overflow-x:auto;overflow-y:hidden}.Xj2aue{height:44px;overflow:hidden}.RnNGze{margin:11px 16px}.wEsjbd div,.wEsjbd a,.wEsjbd li{outline-width:0;outline:none}.PA9J5{display:inline-block}.RXaOfd{display:inline-block;height:22px;position:relative;padding-top:0;padding-bottom:0;padding-right:16px;padding-left:0;line-height:22px;cursor:pointer;text-transform:uppercase;font-size:12px;color:#70757a}.sa1toc{background:#fff;display:none;position:absolute;border:1px solid #d6d6d6;box-shadow:0 2px 4px rgba(0,0,0,.3);margin:0;white-space:nowrap;z-index:103;line-height:17px;padding-top:5px;padding-bottom:5px;padding-left:0}.PA9J5:hover .sa1toc{display:block}.mGSy8d a:active,.RXaOfd:active{color:#4285f4}.TWMOUc{display:inline-block;padding-right:14px;white-space:nowrap}.vQYuGf{font-weight:bold}.OmTIzf{border-color:#909090 transparent;border-style:solid;border-width:4px 4px 0 4px;width:0;height:0;margin-left:-10px;top:50%;margin-top:-2px;position:absolute}.RXaOfd:active .OmTIzf{border-color:#4285f4 transparent}Recent.ozatM{font-size:12px;text-transform:uppercase}.ozatM .yNFsl,.ozatM li{list-style-type:none;list-style-position:outside;list-style-image:none}.yNFsl.SkUj4c,.yNFsl a{color:#70757a;text-decoration:none;padding:6px 44px 6px 14px;line-height:17px;display:block}.SkUj4c{background-image:url(//ssl.gstatic.com/ui/v1/menu/checkmark2.png);background-position:right center;background-repeat:no-repeat}.SkUj4c:active{background-color:#f8f9fa}RecentPast hourPast 24 hoursPast weekPast monthPast yearArchivesSorted by relevanceSorted by relevanceSorted by date(function(){var a=document.getElementById(\"st-toggle\"),b=document.getElementById(\"st-card\");a&&b&&a.addEventListener(\"click\",function(c){b.style.display=b.style.display?\"\":\"none\";c.preventDefault()},!1);}).call(this);.Gx5Zad{background-color:#fff;margin-bottom:30px;box-shadow:0 0 0 1px #dfe1e5;border-radius:8px}.pkphOe{font-size:14px;line-height:22px;}.EtOod>*:first-child{border-top-left-radius:8px;border-top-right-radius:8px}.EtOod>*:last-child{border-bottom-left-radius:8px;border-bottom-right-radius:8px}.EtOod>.qxDOhb>*:first-child{border-top-left-radius:8px;border-top-right-radius:8px}.EtOod>.qxDOhb>*:last-child{border-bottom-left-radius:8px;border-bottom-right-radius:8px}.fP1Qef{background:transparent !important;box-shadow:none !important;border:none !important}.Gx5Zad.fP1Qef{margin-top:-12px;margin-bottom:18px}a.fdYsqf{color:#4b11a8}.rl7ilb{display:block;clear:both}.egMi0{margin-bottom:-19px}.kCrYT{padding:12px 16px 12px}.sCuL3{position:absolute;width:100%;top:0;left:0;padding-top:1px;margin-bottom:-1px}.j039Wc{padding-top:28px;margin-bottom:-1px}.DnJfK{position:relative}.l97dzf{font-weight:400}.zBAuLc{line-height:normal;margin:0;padding:0}.BNeawe{white-space:pre-line;word-wrap:break-word}.vvjwJb{color:#1a0dab;font-size:20px;line-height:26px}a:visited .vvjwJb,.vvjwJb a:visited{color:#4b11a8}.vvjwJb.HrGdeb{color:#fff}a:visited .vvjwJb.HrGdeb,.vvjwJb.HrGdeb a:visited{color:rgba(255,255,255,.70)}.UPmit{font-size:14px;line-height:22px}.UPmit.HrGdeb{color:rgba(255,255,255,.70)}.UPmit.AP7Wnd{color:#202124}.lRVwie{text-overflow:ellipsis;white-space:nowrap;overflow:hidden}.lcJF1d{border-radius:8px;margin-left:16px;float:right;}.h1hFNe{display:inline-block;position:relative}.Q6Xouf{overflow:hidden}.G6SP0b{display:inline-block}.eeoFaf{position:relative}.Ap5OSd{padding-bottom:12px}.s3v9rd{font-size:14px;line-height:22px}.s3v9rd.HrGdeb{color:#fff}.s3v9rd.AP7Wnd{color:#202124}.r0bn4c.tr0dw{color:rgba(255,255,255,.70)}.r0bn4c.rQMQod{color:#70757a}.rLshyf,.BmP5tf{padding-top:12px;padding-bottom:12px}.YOx3Ab{padding-left:16px;}.w1C3Le,.BmP5tf,.G5NbBd,.CS4w5b{padding-left:16px;padding-right:16px;}.G5NbBd{padding-bottom:12px}.CS4w5b{padding-top:12px}.nMymef{display:flex}.G5eFlf{flex:1;display:block}.nMymef span{text-align:center}.EYqSq{margin:6px 4px 9px 0;border-radius:100%;display:inline-block;height:10px;vertical-align:middle;width:10px}.dfB0uf{color:#3c4043;font-weight:bold}RSS-Linked Magazine 'Organiser' Accuses Amazon of 'Funding Christian Conversions'The WireNew Delhi: Rashtriya Swayamsevak Sangh's (RSS's) affiliate magazine The Organiser has accused the global e-commerce giant Amazon of funding...2 days agoHigh time RSS, BJP stopped interfering in Sikh affairs, SGPC tells ...The Indian ExpressApart from RSS and Centre, the SGPC and Shiromani Akali Dal had earlier accused the the Punjab and Haryana governments, and National Commission...1 day ago'New Deceit': Mayawati on BJP, RSS Outreach to Pasmanda MuslimsThe WireIn a tweet in Hindi, she said, “The concern of the BJP and RSS towards the Pasmanda Muslim community is new deceit. Their thinking, intention...1 day agoRSS chief Mohan Bhagwat says ‘Akhand Bharat’ spread from west Kabul to east Tibet and Sri LankaThe HinduRashtriya Swayamsevak Sangh (RSS) chief Mohan Bhagwat said the Supreme Court in one of its judgments has said “Hinduism is not a religion or...2 days agoCourt sentences 11 RSS workers to RI for life for Narayanan Nair’s murderThe HinduThe Additional Sessions Court, Neyyattinkara, sentenced 11 Rashtriya Swayamsevak Sangh (RSS) found guilty of the murder of a Municipal...3 days agoHow the Hindu nationalist RSS woos Indian-AmericansQuartzThe overseas presence of RSS (Rashtriya Swayamsevak Sangh)-inspired groups is, outside of neighbouring Nepal, strongest in three...51 months agoSudhakaran's 'pro-RSS' statements: IUML calms down after KPCC president admits mistake | Malappuram | OnmanoramaOnmanoramaSudhakaran waded into a controversy when he said on November 9 that the Congress workers had given protection to 'shakhas' of RSS which were...1 day agoRSS-backed Bharatiya Mazdoor Sangh asks Centre to rethink PSU privatisation decisionThe HinduThousands of workers affiliated to the RSS-backed trade union Bharatiya Mazdoor Sangh (BMS) on Thursday protested in New Delhi against the...9 hours agoBanking on Judeo, RSS attempts to pave way for BJP in ChhattisgarhThe HinduRashtriya Swayamsewak Sangh (RSS) chief Mohan Bhagwat on Monday unveiled the statue of former Union Minister Dilip Singh Judeo,...3 days agoEveryone Living In India Is 'Hindu', Says RSS Chief Mohan BhagwatNDTV.comRashtriya Swayamsevak Sangh (RSS) chief Mohan Bhagwat on Tuesday said every person living in the country is a 'Hindu' and the DNA of all...2 days ago   Next >   West New Haven, New Haven, CTFrom your IP address - Learn moreSign inSettingsPrivacyTerms (function(){var hl='en';(function(){\n",
      "var f=this||self,g=function(a){return a};var h,k=function(){if(void 0===h){var a=null,b=f.trustedTypes;if(b&&b.createPolicy){try{a=b.createPolicy(\"goog#html\",{createHTML:g,createScript:g,createScriptURL:g})}catch(c){f.console&&f.console.error(c.message)}h=a}else h=a}return h};var p=function(a,b){this.h=a===l&&b||\"\";this.g=m},q=function(a){return a instanceof p&&a.constructor===p&&a.g===m?a.h:\"type_error:Const\"},m={},l={};var t=function(a,b){this.g=b===r?a:\"\"};t.prototype.toString=function(){return this.g+\"\"};var u=function(a){return a instanceof t&&a.constructor===t?a.g:\"type_error:TrustedResourceUrl\"},y=function(){var a={},b=q(new p(l,\"/complete/search\"));if(!v.test(b))throw Error(\"a`\"+b);var c=b.replace(w,function(e,d){if(!Object.prototype.hasOwnProperty.call(a,d))throw Error(\"b`\"+d+\"`\"+b+\"`\"+JSON.stringify(a));e=a[d];return e instanceof p?q(e):encodeURIComponent(String(e))});return x(c)},w=/%{(\\w+)}/g,v=RegExp(\"^((https:)?//[0-9a-z.:[\\\\]-]+/|/[^/\\\\\\\\]|[^:/\\\\\\\\%]+/|[^:/\\\\\\\\%]*[?#]|about:blank#)\",\"i\"),z=/^([^?#]*)(\\?[^#]*)?(#[\\s\\S]*)?/,r={},x=function(a){var b=k();a=b?b.createScriptURL(a):a;return new t(a,r)},A=function(a,b,c){if(null==c)return b;if(\"string\"===typeof c)return c?a+encodeURIComponent(c):\"\";for(var e in c)if(Object.prototype.hasOwnProperty.call(c,e)){var d=c[e];d=Array.isArray(d)?d:[d];for(var n=0;n<d.length;n++){var P=d[n];null!=P&&(b||(b=a),b+=(b.length>a.length?\"&\":\"\")+encodeURIComponent(e)+\"=\"+encodeURIComponent(String(P)))}}return b};var B={},C=function(a,b){this.g=b===B?a:\"\"};C.prototype.toString=function(){return this.g.toString()};var D=function(a){var b=k();a=b?b.createHTML(a):a;return new C(a,B)};\n",
      "function E(a,b){if(void 0!==a.tagName){if(\"script\"===a.tagName.toLowerCase())throw Error(\"c\");if(\"style\"===a.tagName.toLowerCase())throw Error(\"d\");}a.innerHTML=b instanceof C&&b.constructor===C?b.g:\"type_error:SafeHtml\"};var F=document.querySelector(\".l\"),G=document.querySelector(\"#sf\"),H=G.querySelector(\".sbc\"),I=G.querySelector(\"[type=text]\"),J=G.querySelector(\"[type=submit]\"),K=G.querySelector(\".sc\"),L=G.querySelector(\".x\"),M=I.value,N=[],O=-1,Q=M,R,S,T;M||(L&&(L.style.display=\"none\"),U(!1));function U(a){if(H.classList.contains(\"esbc\")){var b=H.classList.contains(\"chsbc\"),c=H.classList.contains(\"rtlsbc\");a&&(K.style.display=\"block\",b?(G.style.borderRadius=\"20px 20px 0 0\",K.style.borderBottom=\"1px solid #DFE1E5\",J.style.borderRadius=c?\"20px 0 0 0\":\"0 20px 0 0\"):H.style.borderRadius=c?\"0 8px 0 0\":\"8px 0 0 0\");a||(K.style.display=\"none\",b?(G.style.borderRadius=\"20px\",K.style.borderBottom=\"none\",J.style.borderRadius=c?\"20px 0 0 20px\":\"0 20px 20px 0\"):H.style.borderRadius=c?\"0 8px 8px 0\":\"8px 0 0 8px\")}}function V(){G.querySelector(\"[name=oq]\").value=Q;G.querySelector(\"[name=aqs]\").value=\"heirloom-srp.\"+(0<=O?O:\"\")+\".\"+(0<N.length?\"0l\"+N.length:\"\")}\n",
      "function W(){R=null;if(S){var a={client:\"heirloom-srp\",hl:hl,json:\"t\",callback:\"hS\",q:S};\"undefined\"!==typeof ds&&ds&&(a.ds=ds);var b=document;var c=\"SCRIPT\";\"application/xhtml+xml\"===b.contentType&&(c=c.toLowerCase());c=b.createElement(c);b=y();b=z.exec(u(b).toString());var e=b[3]||\"\";a=x(b[1]+A(\"?\",b[2]||\"\",a)+A(\"#\",e));c.src=u(a);var d,n;(d=(a=null==(n=(d=(c.ownerDocument&&c.ownerDocument.defaultView||window).document).querySelector)?void 0:n.call(d,\"script[nonce]\"))?a.nonce||a.getAttribute(\"nonce\")||\n",
      "\"\":\"\")&&c.setAttribute(\"nonce\",d);document.body.appendChild(c);S=null;R=setTimeout(W,500)}}function X(){for(;K.firstChild;)K.removeChild(K.firstChild);N=[];O=-1;U(!1)}function Y(){var a=K.querySelector(\".scs\");a&&(a.className=\"\");0<=O?(a=K.childNodes[O],a.className=\"scs\",M=a.textContent):M=Q;I.value=M}I.addEventListener(\"focus\",function(){F&&(F.style.display=\"none\")},!1);I.addEventListener(\"blur\",function(){X();F&&(F.style.display=\"\")},!1);I.addEventListener(\"keyup\",function(a){M=I.value;T=!1;13===a.which?V():27===a.which?(X(),F&&(F.style.display=\"\"),M=Q,I.value=M):40===a.which?(O++,O>=N.length&&(O=-1),Y()):38===a.which?(O--,-1>O&&(O=N.length-1),Y()):(a=M)?(L&&(L.style.display=\"\"),S=a,R||W(),Q=a):(L&&(L.style.display=\"none\"),U(!1),X(),Q=\"\",T=!0)},!1);J.addEventListener(\"click\",V,!1);L.addEventListener(\"click\",function(){I.value=\"\";L.style.display=\"none\";U(!1)},!1);H.addEventListener(\"click\",function(){I.focus()},!1);window.hS=function(a){if(!T){X();0===a[1].length&&U(!1);for(var b=0;b<a[1].length;b++){var c=a[1][b][0],e=document.createElement(\"div\");E(e,D(c));e.addEventListener(\"mousedown\",function(d){d.preventDefault();return!1},!1);c=c.replace(/<\\/?b>/g,\"\");e.addEventListener(\"click\",function(d){return function(){O=d;V();Y();X();G.submit()}}(b),!1);e.addEventListener(\"mouseover\",function(d){return function(){O!==d&&(O=d,Y())}}(b),!1);K.appendChild(e);U(!0);N.push(c)}}};}).call(this);})();(function(){function b(a){for(a=a.target||a.srcElement;a&&\"A\"!==a.nodeName;)a=a.parentElement;a&&(a.href||\"\").match(/\\/search.*[?&]tbm=isch/)&&(a.href+=\"&biw=\"+document.documentElement.clientWidth,a.href+=\"&bih=\"+document.documentElement.clientHeight)}document.addEventListener(\"click\",b,!1);document.addEventListener(\"touchStart\",b,!1);}).call(this);\n"
     ]
    }
   ],
   "source": [
    "print(main_content(html))\n",
    "\n",
    "\n",
    "\n"
   ]
  },
  {
   "cell_type": "code",
   "execution_count": null,
   "metadata": {},
   "outputs": [],
   "source": []
  }
 ],
 "metadata": {
  "kernelspec": {
   "display_name": "Python 3.9.15 ('NewsFeeder')",
   "language": "python",
   "name": "python3"
  },
  "language_info": {
   "codemirror_mode": {
    "name": "ipython",
    "version": 3
   },
   "file_extension": ".py",
   "mimetype": "text/x-python",
   "name": "python",
   "nbconvert_exporter": "python",
   "pygments_lexer": "ipython3",
   "version": "3.9.15"
  },
  "orig_nbformat": 4,
  "vscode": {
   "interpreter": {
    "hash": "12a94f7f42f3f23b52861da658632f4486196a490e6ab8b8582bc58ab9190465"
   }
  }
 },
 "nbformat": 4,
 "nbformat_minor": 2
}
